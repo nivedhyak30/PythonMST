{
  "nbformat": 4,
  "nbformat_minor": 0,
  "metadata": {
    "colab": {
      "provenance": []
    },
    "kernelspec": {
      "name": "python3",
      "display_name": "Python 3"
    },
    "language_info": {
      "name": "python"
    }
  },
  "cells": [
    {
      "cell_type": "code",
      "execution_count": null,
      "metadata": {
        "colab": {
          "base_uri": "https://localhost:8080/"
        },
        "id": "mH1TmqzMPbt8",
        "outputId": "3b79494d-7501-4d01-8d34-382cfdf67c67"
      },
      "outputs": [
        {
          "output_type": "stream",
          "name": "stdout",
          "text": [
            "Enter first number:4\n",
            "Enter second number:3\n",
            "Enter third number:9\n",
            "The middle value is: 4\n"
          ]
        }
      ],
      "source": [
        "#qn1\n",
        "def mid_value(a,b,c):\n",
        "    if b<a and a<c or c<a and a<b:\n",
        "        return a\n",
        "    elif a<b and b<c or c<b and b<a:\n",
        "        return b\n",
        "    else:\n",
        "        return c\n",
        "a=int(input(\"Enter first number:\"))\n",
        "b=int(input(\"Enter second number:\"))\n",
        "c=int(input(\"Enter third number:\"))\n",
        "res=mid_value(a,b,c)\n",
        "print(\"The middle value is:\",res)"
      ]
    },
    {
      "cell_type": "code",
      "source": [
        "#qn2\n",
        "def add(x, y):\n",
        "    return x + y\n",
        "\n",
        "def sub(x, y):\n",
        "    return x - y\n",
        "\n",
        "def mul(x, y):\n",
        "    return x * y\n",
        "\n",
        "def div(x, y):\n",
        "    if y != 0:\n",
        "        return x / y\n",
        "    else:\n",
        "        return \"Not possible!\"\n",
        "\n",
        "x = float(input(\"Enter first digit: \"))\n",
        "y = float(input(\"Enter second digit: \"))\n",
        "operation = input(\"Enter the operation to be performed: \\n add \\n subtract \\n multiply \\n divide\\n:\")\n",
        "\n",
        "if operation == \"add\":\n",
        "    result = add(x, y)\n",
        "    print(\"The sum is:\", result)\n",
        "elif operation == \"subtract\":\n",
        "    result = sub(x, y)\n",
        "    print(\"The difference is:\", result)\n",
        "elif operation == \"multiply\":\n",
        "    result = mul(x, y)\n",
        "    print(\"The product is:\", result)\n",
        "elif operation == \"divide\":\n",
        "    result = div(x, y)\n",
        "    print(\"The result of division is:\", result)\n",
        "else:\n",
        "    print(\"Invalid operation. Please enter a valid operation.\")"
      ],
      "metadata": {
        "id": "NXkpx5GBPzID",
        "colab": {
          "base_uri": "https://localhost:8080/"
        },
        "outputId": "cf8c3b6a-6e59-4750-cacd-ea6d190c2f0c"
      },
      "execution_count": 2,
      "outputs": [
        {
          "output_type": "stream",
          "name": "stdout",
          "text": [
            "Enter first digit: 4\n",
            "Enter second digit: 5\n",
            "Enter the operation to be performed: \n",
            " add \n",
            " subtract \n",
            " multiply \n",
            " divide\n",
            ":divide\n",
            "The result of division is: 0.8\n"
          ]
        }
      ]
    },
    {
      "cell_type": "code",
      "source": [
        "#qn3\n",
        "import math\n",
        "def find_hypotenuse(x,y):\n",
        "    hyp=math.sqrt((pow(x,2)+pow(y,2)))\n",
        "    return hyp\n",
        "side1=float(input(\"Enter the length of first side:\"))\n",
        "side2=float(input(\"Enter the length of other side:\"))\n",
        "print(\"The hypotenuse is:\",find_hypotenuse(side1,side2))"
      ],
      "metadata": {
        "id": "ar3LZ0u5QNGb",
        "colab": {
          "base_uri": "https://localhost:8080/"
        },
        "outputId": "7807303b-a65a-4474-f1be-55055368a731"
      },
      "execution_count": 3,
      "outputs": [
        {
          "output_type": "stream",
          "name": "stdout",
          "text": [
            "Enter the length of first side:1\n",
            "Enter the length of other side:1\n",
            "The hypotenuse is: 1.4142135623730951\n"
          ]
        }
      ]
    },
    {
      "cell_type": "code",
      "source": [
        "#qn4\n",
        "class Rectangle:\n",
        "    def __init__(self,length,width):\n",
        "        self.length = length\n",
        "        self.width = width\n",
        "    def perimeter(self):\n",
        "         return 2*(self.length + self.width)\n",
        "    def area(self):\n",
        "        return self.length*self.width\n",
        "    def display(self):\n",
        "        print(f\"Perimeter is: {self.perimeter()}m \\nArea is: {self.area()}sq.m\")\n",
        "\n",
        "l = int(input(\"Enter length of triangle: \"))\n",
        "w = int(input(\"Enter width of triangle: \"))\n",
        "r1 = Rectangle(l,w)\n",
        "r1.display()\n"
      ],
      "metadata": {
        "id": "HKxO-sfIQYzk",
        "colab": {
          "base_uri": "https://localhost:8080/"
        },
        "outputId": "a5e1940a-05be-486e-e029-09285a4b9ecd"
      },
      "execution_count": 4,
      "outputs": [
        {
          "output_type": "stream",
          "name": "stdout",
          "text": [
            "Enter length of triangle: 7\n",
            "Enter width of triangle: 5\n",
            "Perimeter is: 24m \n",
            "Area is: 35sq.m\n"
          ]
        }
      ]
    },
    {
      "cell_type": "code",
      "source": [
        "#qn5\n",
        "class BankAccount():\n",
        "    def __init__(self,accountNumber,name,balance):\n",
        "        self.accountNumber = accountNumber\n",
        "        self.name = name\n",
        "        self.balance = balance\n",
        "    def deposit(self,amount):\n",
        "        if amount > 0:\n",
        "            self.balance += amount\n",
        "            print(f\"Deposited ${amount}. Your new balance is: ${self.balance}\")\n",
        "        else:\n",
        "            print(\"Invalid amount!\")\n",
        "\n",
        "    def withdrawal(self,amount):\n",
        "        if amount>0 and self.balance>=amount:\n",
        "            self.balance -= amount\n",
        "            print(f\"You have withdrawn ${amount}. Your new balance is: ${self.balance}\")\n",
        "\n",
        "\n",
        "    def bankfees(self):\n",
        "        fees = self.balance * 0.05\n",
        "        self.balance -= fees\n",
        "        print(f\"Service charge applied: ${fees}. New balance: ${self.balance}\")\n",
        "\n",
        "    def display(self):\n",
        "        print(f\"ACCOUNT NUMBER: {self.accountNumber} \\nNAME OF ACCOUNT HOLDER: {self.name} \\nBALANCE: ${self.balance}\")\n",
        "acc1= BankAccount(12000345, \"Anna\", 2000)\n",
        "acc1.display()\n",
        "acc1.deposit(8000)\n",
        "acc1.withdrawal(4000)\n",
        "acc1.bankfees()\n",
        "acc1.display()\n",
        "\n"
      ],
      "metadata": {
        "id": "35RXKY3tQiT9",
        "colab": {
          "base_uri": "https://localhost:8080/"
        },
        "outputId": "08af3dfe-f40b-49cc-fa20-1fc285bd2c38"
      },
      "execution_count": 5,
      "outputs": [
        {
          "output_type": "stream",
          "name": "stdout",
          "text": [
            "ACCOUNT NUMBER: 12000345 \n",
            "NAME OF ACCOUNT HOLDER: Anna \n",
            "BALANCE: $2000\n",
            "Deposited $8000. Your new balance is: $10000\n",
            "You have withdrawn $4000. Your new balance is: $6000\n",
            "Service charge applied: $300.0. New balance: $5700.0\n",
            "ACCOUNT NUMBER: 12000345 \n",
            "NAME OF ACCOUNT HOLDER: Anna \n",
            "BALANCE: $5700.0\n"
          ]
        }
      ]
    }
  ]
}