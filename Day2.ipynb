{
  "nbformat": 4,
  "nbformat_minor": 0,
  "metadata": {
    "colab": {
      "provenance": []
    },
    "kernelspec": {
      "name": "python3",
      "display_name": "Python 3"
    },
    "language_info": {
      "name": "python"
    }
  },
  "cells": [
    {
      "cell_type": "code",
      "execution_count": 4,
      "metadata": {
        "colab": {
          "base_uri": "https://localhost:8080/"
        },
        "id": "1cy-TOSjYfCt",
        "outputId": "f3e0fde3-ef0b-4de4-9def-ab3a7aca2bc0"
      },
      "outputs": [
        {
          "output_type": "stream",
          "name": "stdout",
          "text": [
            "Enter no of integers in the list:\n",
            "None3\n",
            "Enter the values:\n",
            "1\n",
            "1\n",
            "1\n",
            "The sum is: 3\n"
          ]
        }
      ],
      "source": [
        "number=[]\n",
        "total=0\n",
        "n=int(input(print(\"Enter no of integers in the list:\")))\n",
        "print(\"Enter the values:\")\n",
        "for i in range(0,n):\n",
        "    num=int(input())\n",
        "    number.append(num)\n",
        "\n",
        "for i in number:\n",
        "    total=total+i\n",
        "print(\"The sum is:\",total)"
      ]
    },
    {
      "cell_type": "code",
      "source": [
        "s=input(\"Enter a sentence:\")\n",
        "\n",
        "print(\"The length of the string is\", len(s))\n",
        "#print the first half\n",
        "lng=len(s)//2\n",
        "print(\"The first half is:\",s[:lng])"
      ],
      "metadata": {
        "colab": {
          "base_uri": "https://localhost:8080/"
        },
        "id": "rHB80CBMZPPV",
        "outputId": "29e8463d-0618-4a4b-b9e7-df7ddcff97d9"
      },
      "execution_count": 19,
      "outputs": [
        {
          "output_type": "stream",
          "name": "stdout",
          "text": [
            "Enter a sentence:Its friday\n",
            "The length of the string is 10\n",
            "The first half is: Its f\n"
          ]
        }
      ]
    },
    {
      "cell_type": "code",
      "source": [
        "#my_tuple=(78,45,32,19,82,77,40,39)\n",
        "lst=[]\n",
        "n=int(input(\"Enter the no of elements:\"))#n=8\n",
        "print(\"Enter the tuple elements:\")\n",
        "for i in range(0,n):\n",
        "  ele=int(input())\n",
        "  lst.append(ele)\n",
        "print(lst)\n",
        "lst[2]=100\n",
        "#print(lst)\n",
        "tupl=tuple(lst)\n",
        "print(\"Tuple after changing 3rd element to 100:\",tupl)"
      ],
      "metadata": {
        "colab": {
          "base_uri": "https://localhost:8080/"
        },
        "id": "ccqVtvuzZjrj",
        "outputId": "262cb4fc-344d-4c03-fcaf-d1f19e82a90d"
      },
      "execution_count": 9,
      "outputs": [
        {
          "output_type": "stream",
          "name": "stdout",
          "text": [
            "Enter the no of elements:8\n",
            "Enter the tuple elements:\n",
            "78\n",
            "45\n",
            "32\n",
            "19\n",
            "82\n",
            "77\n",
            "40\n",
            "39\n",
            "[78, 45, 32, 19, 82, 77, 40, 39]\n",
            "Tuple after changing 3rd element to 100: (78, 45, 100, 19, 82, 77, 40, 39)\n"
          ]
        }
      ]
    },
    {
      "cell_type": "code",
      "source": [
        "listA = [19, 32, 10, 55, 31, 32, 94, 29, 10, 65, 77, 40, 40]\n",
        "\n",
        "# (a) Delete the first occurrence of 32\n",
        "listA.remove(32)\n",
        "print(\"After removing first occurence of 32:\",listA)\n",
        "# (b) Delete all occurence of 40\n",
        "c=listA.count(40)\n",
        "for i in range(0,c):\n",
        "    listA.remove(40)\n",
        "print(\"After deleting all occurence of 40:\",listA)\n",
        "# (c) Delete the value at index=5\n",
        "del listA[5]\n",
        "print(\"After deleting value at index 5\",listA)\n",
        "#(d) Modify the value at index=9 as 300\n",
        "#listA[9] = 300 #index is out of range\n",
        "#(e) Add 200 at index=2\n",
        "listA.insert(2, 200)\n",
        "print(\"Adding 200 at index 2:\",listA)\n",
        "#(f)\n",
        "print(\"Final list:\", listA)\n",
        "print(\"Length:\", len(listA))\n",
        "print(\"Maximum value:\", max(listA))\n",
        "print(\"Sum of elements:\", sum(listA))\n"
      ],
      "metadata": {
        "colab": {
          "base_uri": "https://localhost:8080/"
        },
        "id": "Ui1OovKflhV3",
        "outputId": "c725f1af-85f8-45d5-f4cb-62f7f66a30f7"
      },
      "execution_count": 10,
      "outputs": [
        {
          "output_type": "stream",
          "name": "stdout",
          "text": [
            "After removing first occurence of 32: [19, 10, 55, 31, 32, 94, 29, 10, 65, 77, 40, 40]\n",
            "After deleting all occurence of 40: [19, 10, 55, 31, 32, 94, 29, 10, 65, 77]\n",
            "After deleting value at index 5 [19, 10, 55, 31, 32, 29, 10, 65, 77]\n",
            "Adding 200 at index 2: [19, 10, 200, 55, 31, 32, 29, 10, 65, 77]\n",
            "Final list: [19, 10, 200, 55, 31, 32, 29, 10, 65, 77]\n",
            "Length: 10\n",
            "Maximum value: 200\n",
            "Sum of elements: 528\n"
          ]
        }
      ]
    },
    {
      "cell_type": "code",
      "source": [
        "# Given string\n",
        "string1 = \"The day has been long\"\n",
        "\n",
        "# (a) Delete the value at index=4\n",
        "string1 = string1[:4] + string1[5:]\n",
        "print(\"After deleting value at index 4:\",string1)\n",
        "# (b) Print the string 4 times in a single line with space between each repetition\n",
        "print((string1 + \" \")* 4)\n",
        "\n",
        "# (c) Print the string 3 times in a new line each time\n",
        "print((string1 + '\\n') * 3)\n",
        "\n",
        "# (e) Modify the string at index 7 as 'A'\n",
        "string1 = string1[:7] + 'A' + string1[8:]\n",
        "\n",
        "# (f) Print the string from index 4 to 15\n",
        "print(string1[4:16])\n",
        "\n",
        "#(f) Print the final string with its length\n",
        "print(\"Final String:\", string1)\n",
        "print(\"Length:\", len(string1))"
      ],
      "metadata": {
        "colab": {
          "base_uri": "https://localhost:8080/"
        },
        "id": "vL1dl5btoQuf",
        "outputId": "77ad8e10-a922-4477-e816-6bb99a1974b3"
      },
      "execution_count": 18,
      "outputs": [
        {
          "output_type": "stream",
          "name": "stdout",
          "text": [
            "After deleting value at index 4: The ay has been long\n",
            "The ay has been long The ay has been long The ay has been long The ay has been long \n",
            "The ay has been long\n",
            "The ay has been long\n",
            "The ay has been long\n",
            "\n",
            "ay Aas been \n",
            "Final String: The ay Aas been long\n",
            "Length: 20\n"
          ]
        }
      ]
    }
  ]
}