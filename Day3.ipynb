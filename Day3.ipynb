{
  "nbformat": 4,
  "nbformat_minor": 0,
  "metadata": {
    "colab": {
      "provenance": []
    },
    "kernelspec": {
      "name": "python3",
      "display_name": "Python 3"
    },
    "language_info": {
      "name": "python"
    }
  },
  "cells": [
    {
      "cell_type": "code",
      "execution_count": 1,
      "metadata": {
        "colab": {
          "base_uri": "https://localhost:8080/"
        },
        "id": "LqxLaU1U6pDH",
        "outputId": "17da21e3-3885-433b-a5de-e2c5885a01c7"
      },
      "outputs": [
        {
          "output_type": "stream",
          "name": "stdout",
          "text": [
            "Enter the no of participants:5\n",
            "Enter the scores:\n",
            "Score of participant 1:9\n",
            "Score of participant 2:5\n",
            "Score of participant 3:3\n",
            "Score of participant 4:7\n",
            "Score of participant 5:1\n",
            "[1, 3, 5, 7, 9]\n",
            "7\n"
          ]
        }
      ],
      "source": [
        "#score of runner up\n",
        "n=int(input(\"Enter the no of participants:\"))\n",
        "scores=[]\n",
        "print(\"Enter the scores:\")\n",
        "for i in range(0,n):\n",
        "    sc=int(input(\"Score of participant \"+ str(i+1) + \":\"))\n",
        "    scores.append(sc)\n",
        "scores.sort()\n",
        "print(scores)\n",
        "print(scores[n-2])"
      ]
    },
    {
      "cell_type": "code",
      "source": [
        "D={\"John\":[25,32,43],\"Peter\":[87,55,96],\"Ram\":[58,55,43],\"Meena\":[63,79,85]}\n",
        "#if name in D, values becomes [88,79,99]\n",
        "flag=0\n",
        "name=input(\"Enter a name:\")\n",
        "for key in D:\n",
        "    if key==name:\n",
        "        D[key]=[88,79,99]\n",
        "        flag=1\n",
        "if flag!=1:\n",
        "    print(\"Not found!\")\n",
        "print(D)\n"
      ],
      "metadata": {
        "colab": {
          "base_uri": "https://localhost:8080/"
        },
        "id": "VZCIc48j7WyE",
        "outputId": "f1831fb9-0bd7-41fc-f444-ff49bfbd32e7"
      },
      "execution_count": 2,
      "outputs": [
        {
          "output_type": "stream",
          "name": "stdout",
          "text": [
            "Enter a name:Peter\n",
            "{'John': [25, 32, 43], 'Peter': [88, 79, 99], 'Ram': [58, 55, 43], 'Meena': [63, 79, 85]}\n"
          ]
        }
      ]
    },
    {
      "cell_type": "code",
      "source": [
        "age=int(input(\"Enter your age:\"))\n",
        "gender=input(\"Gender:\")\n",
        "if age<5:\n",
        "    price=0\n",
        "elif age>=5 and age<=12:\n",
        "    price=10\n",
        "elif age> 12 and age<=60:\n",
        "    price=50\n",
        "elif age>60:\n",
        "    price=0\n",
        "if gender==\"female\":\n",
        "    price=0.5*price\n",
        "if price==0:\n",
        "    print(\"Yaay your ticket is Free of cost!!!\")\n",
        "else:\n",
        "    print(\"Your ticket price is Rs.\",price)"
      ],
      "metadata": {
        "colab": {
          "base_uri": "https://localhost:8080/"
        },
        "id": "328KI-j47n-1",
        "outputId": "ed84fb02-0ad7-41c6-eaa9-09eff501f5a5"
      },
      "execution_count": 3,
      "outputs": [
        {
          "output_type": "stream",
          "name": "stdout",
          "text": [
            "Enter your age:30\n",
            "Gender:female\n",
            "Your ticket price is Rs. 25.0\n"
          ]
        }
      ]
    }
  ]
}