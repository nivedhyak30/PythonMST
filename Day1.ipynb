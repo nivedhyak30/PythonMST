{
  "nbformat": 4,
  "nbformat_minor": 0,
  "metadata": {
    "colab": {
      "provenance": []
    },
    "kernelspec": {
      "name": "python3",
      "display_name": "Python 3"
    },
    "language_info": {
      "name": "python"
    }
  },
  "cells": [
    {
      "cell_type": "code",
      "execution_count": 2,
      "metadata": {
        "colab": {
          "base_uri": "https://localhost:8080/"
        },
        "id": "jcsoXYgE4F1A",
        "outputId": "fa175128-d1d8-4b60-9b69-2e382b818889"
      },
      "outputs": [
        {
          "output_type": "stream",
          "name": "stdout",
          "text": [
            "Hello\n"
          ]
        }
      ],
      "source": [
        "s=\"Hello, World!\"\n",
        "res=s[:5]\n",
        "print(res)"
      ]
    },
    {
      "cell_type": "code",
      "source": [
        "s=\"Python is fun\"\n",
        "res=s[7:9]\n",
        "print(res)"
      ],
      "metadata": {
        "colab": {
          "base_uri": "https://localhost:8080/"
        },
        "id": "fS8comWC47Ul",
        "outputId": "34d8c476-ded1-4edd-fb61-9ab2be80d3bc"
      },
      "execution_count": 3,
      "outputs": [
        {
          "output_type": "stream",
          "name": "stdout",
          "text": [
            "is\n"
          ]
        }
      ]
    },
    {
      "cell_type": "code",
      "source": [
        "s=\"Programming\"\n",
        "new=s[3:7]\n",
        "print(new)"
      ],
      "metadata": {
        "colab": {
          "base_uri": "https://localhost:8080/"
        },
        "id": "KJNmvM715MAF",
        "outputId": "85e34cfe-356a-489d-fcfd-2c15c133e0cb"
      },
      "execution_count": 4,
      "outputs": [
        {
          "output_type": "stream",
          "name": "stdout",
          "text": [
            "gram\n"
          ]
        }
      ]
    },
    {
      "cell_type": "code",
      "source": [
        "s=\"abcdefgh\"\n",
        "res=s[::2]\n",
        "print(res)"
      ],
      "metadata": {
        "colab": {
          "base_uri": "https://localhost:8080/"
        },
        "id": "UAAfhfqt5hJf",
        "outputId": "50d2866c-bd73-4c61-ecff-dc7ef35729cd"
      },
      "execution_count": 8,
      "outputs": [
        {
          "output_type": "stream",
          "name": "stdout",
          "text": [
            "aceg\n"
          ]
        }
      ]
    },
    {
      "cell_type": "code",
      "source": [
        "s=\"abcdefg\"\n",
        "res=s[-3:]\n",
        "print(res)"
      ],
      "metadata": {
        "colab": {
          "base_uri": "https://localhost:8080/"
        },
        "id": "sh8lOxfM58jr",
        "outputId": "8d41d010-b283-463a-f3ac-771b723ef104"
      },
      "execution_count": 9,
      "outputs": [
        {
          "output_type": "stream",
          "name": "stdout",
          "text": [
            "efg\n"
          ]
        }
      ]
    },
    {
      "cell_type": "code",
      "source": [
        "s=\"Data Science\"\n",
        "res=s[-3:]\n",
        "print(res)"
      ],
      "metadata": {
        "colab": {
          "base_uri": "https://localhost:8080/"
        },
        "id": "9DdDyX4e6N2f",
        "outputId": "19679b42-957d-4885-b2c7-f593115ca508"
      },
      "execution_count": 10,
      "outputs": [
        {
          "output_type": "stream",
          "name": "stdout",
          "text": [
            "nce\n"
          ]
        }
      ]
    },
    {
      "cell_type": "code",
      "source": [
        "s=\"abcdefghij\"\n",
        "res=s[1::2]\n",
        "print(res)"
      ],
      "metadata": {
        "colab": {
          "base_uri": "https://localhost:8080/"
        },
        "id": "Z36ZgZeu6jNL",
        "outputId": "7d8b04de-0427-4443-aded-39edcfca0995"
      },
      "execution_count": 11,
      "outputs": [
        {
          "output_type": "stream",
          "name": "stdout",
          "text": [
            "bdfhj\n"
          ]
        }
      ]
    },
    {
      "cell_type": "code",
      "source": [
        "s=\"1234567890\"\n",
        "res=s[::2]\n",
        "print(res)"
      ],
      "metadata": {
        "colab": {
          "base_uri": "https://localhost:8080/"
        },
        "id": "hq-HnaVN6uao",
        "outputId": "c4a0ea85-7e58-4d60-e48a-a44ede5bd5a6"
      },
      "execution_count": 16,
      "outputs": [
        {
          "output_type": "stream",
          "name": "stdout",
          "text": [
            "13579\n"
          ]
        }
      ]
    },
    {
      "cell_type": "code",
      "source": [
        "s=\"Hello\"\n",
        "res=s[::-1]\n",
        "print(res)"
      ],
      "metadata": {
        "colab": {
          "base_uri": "https://localhost:8080/"
        },
        "id": "uo9yaS4W66Qs",
        "outputId": "1fcbc7c8-dd2e-4847-c94a-f8d1cdf004e4"
      },
      "execution_count": 13,
      "outputs": [
        {
          "output_type": "stream",
          "name": "stdout",
          "text": [
            "olleH\n"
          ]
        }
      ]
    },
    {
      "cell_type": "code",
      "source": [
        "s=\"abcdefghijk\"\n",
        "res=s[::2]\n",
        "print(res)"
      ],
      "metadata": {
        "colab": {
          "base_uri": "https://localhost:8080/"
        },
        "id": "7194OXDZ7EmZ",
        "outputId": "b3406871-19a3-42eb-bf1f-7b034188cb5d"
      },
      "execution_count": 14,
      "outputs": [
        {
          "output_type": "stream",
          "name": "stdout",
          "text": [
            "acegik\n"
          ]
        }
      ]
    }
  ]
}