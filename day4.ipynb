{
  "nbformat": 4,
  "nbformat_minor": 0,
  "metadata": {
    "colab": {
      "provenance": []
    },
    "kernelspec": {
      "name": "python3",
      "display_name": "Python 3"
    },
    "language_info": {
      "name": "python"
    }
  },
  "cells": [
    {
      "cell_type": "code",
      "execution_count": 1,
      "metadata": {
        "colab": {
          "base_uri": "https://localhost:8080/"
        },
        "id": "S_6TD0Mr8aIA",
        "outputId": "8eb635e7-43da-407a-9ced-f690e18398cf"
      },
      "outputs": [
        {
          "output_type": "stream",
          "name": "stdout",
          "text": [
            "Enter a number between 1 and 10:5\n",
            "Congratulations you entered the number correctly!\n"
          ]
        }
      ],
      "source": [
        "#set a secret number\n",
        "secretNumber=5\n",
        "while True:\n",
        "    guess = int(input(\"Enter a number between 1 and 10:\"))\n",
        "    if guess==secretNumber:\n",
        "        print(\"Congratulations you entered the number correctly!\")\n",
        "        break\n",
        "    elif guess>secretNumber:\n",
        "        print(\"Too high! Try again.\")\n",
        "    else:\n",
        "        print(\"Too low! Try again.\")"
      ]
    },
    {
      "cell_type": "code",
      "source": [
        "#factorial\n",
        "n=int(input(\"Enter a number\"))\n",
        "fact=1\n",
        "for i in range(1,n+1):\n",
        "    fact=i*fact\n",
        "print(\"Factorial is: \",fact)"
      ],
      "metadata": {
        "colab": {
          "base_uri": "https://localhost:8080/"
        },
        "id": "CMZp00t58zdk",
        "outputId": "697aadef-d318-4c5c-aa2a-be7cfb49d754"
      },
      "execution_count": 3,
      "outputs": [
        {
          "output_type": "stream",
          "name": "stdout",
          "text": [
            "Enter a number4\n",
            "Factorial is:  24\n"
          ]
        }
      ]
    },
    {
      "cell_type": "code",
      "source": [
        "L = int(input(\"Enter the minimum dimension L: \"))\n",
        "N = int(input(\"Enter the number of photos N: \"))\n",
        "\n",
        "for i in range(N):\n",
        "    W = int(input(\n",
        "        f\"Enter width for photo {i + 1}: \"))\n",
        "    H = int(input(f\"Enter height for photo {i + 1}: \"))\n",
        "\n",
        "    if W < L or H < L:\n",
        "        print(\"UPLOAD ANOTHER\")\n",
        "    elif W == H:\n",
        "        print(\"ACCEPTED\")\n",
        "    else:\n",
        "        print(\"CROP IT\")\n"
      ],
      "metadata": {
        "colab": {
          "base_uri": "https://localhost:8080/"
        },
        "id": "R3aOqMOZ9CwD",
        "outputId": "83885cae-44ef-4fd3-9bf3-18f62fe9255b"
      },
      "execution_count": 5,
      "outputs": [
        {
          "output_type": "stream",
          "name": "stdout",
          "text": [
            "Enter the minimum dimension L: 20\n",
            "Enter the number of photos N: 3\n",
            "Enter width for photo 1: 25\n",
            "Enter height for photo 1: 27\n",
            "CROP IT\n",
            "Enter width for photo 2: 20\n",
            "Enter height for photo 2: 19\n",
            "UPLOAD ANOTHER\n",
            "Enter width for photo 3: 23\n",
            "Enter height for photo 3: 23\n",
            "ACCEPTED\n"
          ]
        }
      ]
    }
  ]
}